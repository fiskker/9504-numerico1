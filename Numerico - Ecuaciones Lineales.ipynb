{
 "cells": [
  {
   "cell_type": "markdown",
   "metadata": {},
   "source": [
    "# Ejercicios: Ecuaciones Lineales - A. Numerico Schwarz 1c 2019"
   ]
  },
  {
   "cell_type": "markdown",
   "metadata": {},
   "source": [
    "## 1. Eliminación de Gauss y sustitución inversa"
   ]
  },
  {
   "cell_type": "markdown",
   "metadata": {},
   "source": [
    "El método de eliminación de Gauss es un método directo muy efectivo que transforma la matriz de coeficientes original en una matriz triangular superior y luego aplica el método de sustitución inversa para obtener la solución del sistema dado."
   ]
  },
  {
   "cell_type": "markdown",
   "metadata": {},
   "source": [
    "Para ello se basa en la propiedad de que el sistema de ecuaciones no cambia al reemplazar filas por combinaciones lineales de las restantes"
   ]
  },
  {
   "cell_type": "code",
   "execution_count": 138,
   "metadata": {},
   "outputs": [
    {
     "name": "stdout",
     "output_type": "stream",
     "text": [
      "Matriz ampliada: \n"
     ]
    },
    {
     "data": {
      "text/plain": [
       "matrix([['a11', 'a12', 'b1'],\n",
       "        ['a21', 'a22', 'b2']], dtype='<U3')"
      ]
     },
     "execution_count": 138,
     "metadata": {},
     "output_type": "execute_result"
    }
   ],
   "source": [
    "import numpy as np\n",
    "\n",
    "print(\"Matriz ampliada: \")\n",
    "A = np.matrix([['a11', 'a12', 'b1'], ['a21', 'a22', 'b2']])\n",
    "A"
   ]
  },
  {
   "cell_type": "markdown",
   "metadata": {},
   "source": [
    "Queremos resolver el sistema $Ax = B$ tal que cada coeficiente de la matriz $A$ se multiplica por cada coeficiente de nuestro vector $x$."
   ]
  },
  {
   "cell_type": "markdown",
   "metadata": {},
   "source": [
    "1. Calculamos el coeficiente $m_{21} = \\frac{a_{21}}{a_{11}}$"
   ]
  },
  {
   "cell_type": "markdown",
   "metadata": {},
   "source": [
    "2. Luego calculamos los coeficientes: \n",
    "$$a^{*}_{22} = a_{22} - m_{21}a_{12}$$\n",
    "$$a^{*}_{23} = a_{23} - m_{21}a_{13}$$\n",
    "$$a^{*}_{24} = a_{24} - m_{21}a_{14}$$\n",
    "$$b^{*}_2 = b_2 - m_{21}b_1$$\n"
   ]
  },
  {
   "cell_type": "markdown",
   "metadata": {},
   "source": [
    "y así sucesivament para el resto de las filas, con lo que obtenemos la nueva matriz ampliada:"
   ]
  },
  {
   "cell_type": "markdown",
   "metadata": {},
   "source": [
    "\n",
    "\\begin{bmatrix} \n",
    "a_{11} & a_{12}     & a_{13}     & a_{14}     & | & b_1 \\\\\n",
    "0      & a^{*}_{22} & a^{*}_{23} & a^{*}_{24} & | & b^{*}_2 \\\\\n",
    "0      & a^{*}_{32} & a^{*}_{33} & a^{*}_{34} & | & b^{*}_3 \\\\\n",
    "0      & a^{*}_{42} & a^{*}_{43} & a^{*}_{44} & | & b^{*}_4 \\\\\n",
    "\\end{bmatrix}\n"
   ]
  },
  {
   "cell_type": "markdown",
   "metadata": {},
   "source": [
    "Repetimos sucesivamente, y luego comenzando por la última fila resolvemos una ecuación trivial, luego sustituimos en la ecuación anterior"
   ]
  },
  {
   "cell_type": "code",
   "execution_count": 139,
   "metadata": {},
   "outputs": [],
   "source": [
    "def Gauss(A, B, M, ext=True):\n",
    "    # Cantidad de veces a iterar para resolver el sistema en su totalidad dim(A)-1 veces.\n",
    "    for l in range(A.shape[0]):\n",
    "\n",
    "        # Cantidad de iteraciones para resolver por cada pivote. (columna a columna)\n",
    "        for i in range(l, A.shape[0]):\n",
    "\n",
    "            # Agregamos ceros en la fila.\n",
    "            if(i == l):\n",
    "                A[l+1:A.shape[0], i] = 0\n",
    "                continue\n",
    "\n",
    "            # Cantidad de iteraciones para resolver\n",
    "            for j in range(i, A.shape[0]):\n",
    "                A[i, j] = A.item(i, j) - M.item(i, l)*A.item(i-1, j)\n",
    "            \n",
    "            if(ext):\n",
    "                B[0, i] = B.item(i) - M.item(i, l)*B.item(i-1)\n"
   ]
  },
  {
   "cell_type": "code",
   "execution_count": 140,
   "metadata": {},
   "outputs": [
    {
     "name": "stdout",
     "output_type": "stream",
     "text": [
      "[[ 1  2]\n",
      " [ 0 -5]]\n",
      "[[  4 -11]]\n"
     ]
    }
   ],
   "source": [
    "A = np.matrix([[1, 2], \n",
    "               [3, 1]\n",
    "              ])\n",
    "\n",
    "B = np.matrix([ [4, 1] ])\n",
    "\n",
    "M = np.matrix([ [0, 0],\n",
    "               [(A.item(1,0) / A.item(0,0)), 0]\n",
    "              ])\n",
    "\n",
    "\n",
    "Gauss(A, B, M)\n",
    "print(A)\n",
    "print(B)"
   ]
  },
  {
   "cell_type": "markdown",
   "metadata": {},
   "source": [
    "Una vez hallada la nueva matriz $A$, y la nueva matriz $B$ procedemos a realizar la sustitución de manera inversa iterativamente."
   ]
  },
  {
   "cell_type": "code",
   "execution_count": 141,
   "metadata": {},
   "outputs": [],
   "source": [
    "def sust_inv(A, B):\n",
    "    x = [0, 0]\n",
    "    ax = 0\n",
    "    for i in range(A.shape[0]-1, -1, -1):\n",
    "        for j in range(i, A.shape[0]):\n",
    "            ax += A[i, j]*x[j]\n",
    "\n",
    "        x[i] = (B[0, i] - ax)/A[i, i]\n",
    "        ax = 0\n",
    "    \n",
    "    return x"
   ]
  },
  {
   "cell_type": "code",
   "execution_count": 142,
   "metadata": {},
   "outputs": [],
   "source": [
    "x = sust_inv(A, B)"
   ]
  },
  {
   "cell_type": "markdown",
   "metadata": {},
   "source": [
    "Para asegurarnos de que sea el resultado correcto, utilizamos la solución en ambos casos, con nuestra matriz $A$ original, y con nuestra matriz $A^{*}$ triangular inferior."
   ]
  },
  {
   "cell_type": "code",
   "execution_count": 143,
   "metadata": {},
   "outputs": [
    {
     "name": "stdout",
     "output_type": "stream",
     "text": [
      "[[  4. -11.]]\n",
      "[[  4 -11]]\n"
     ]
    }
   ],
   "source": [
    "# Matrices luego de Gauss-Jordan\n",
    "print(x*np.transpose(A)) \n",
    "print(B)"
   ]
  },
  {
   "cell_type": "code",
   "execution_count": 144,
   "metadata": {},
   "outputs": [
    {
     "name": "stdout",
     "output_type": "stream",
     "text": [
      "[[4. 1.]]\n",
      "[[4 1]]\n"
     ]
    }
   ],
   "source": [
    "# Matrices originales\n",
    "A = np.matrix([[1, 2], \n",
    "               [3, 1]\n",
    "              ])\n",
    "\n",
    "B = np.matrix([ [4, 1] ])\n",
    "\n",
    "print(x*np.transpose(A))\n",
    "print(B)"
   ]
  },
  {
   "cell_type": "markdown",
   "metadata": {},
   "source": [
    "Este procedimiento es muy útil puesto que se conoce exactamente la cantidad de pasos que edben efectuarse. Podemos conocer el costo computacional del método, establecer cuanto tiempo lleva todo el proceso.\n",
    "\n",
    "Una vez analizado se puede ver que el costo de efectuar la eliminación de Gauss tiene un orden cubico $O(n³)$"
   ]
  },
  {
   "cell_type": "markdown",
   "metadata": {},
   "source": [
    "## 2. Factorizacion LU"
   ]
  },
  {
   "cell_type": "markdown",
   "metadata": {},
   "source": [
    "El método de eliminación de Gauss es un método muy potente. Sin embargo no siempre es conveniente su utilización.\n",
    "\n",
    "Supongamos por un momento que para resolver un determinado problema debemos resolver el sistema de ecuaciones en forma anidada. Es decir, cada nueva solución depende del resultado obtenido en un paso anterior, o sea, cada vector $B$ depende de la solucion anterior: $B^{<i>} = f(x^{<i-1>})$"
   ]
  },
  {
   "cell_type": "markdown",
   "metadata": {},
   "source": [
    "Un método muy eficiente para estos casos es la descomposición o factorización LU. Ésta consiste en descomponer la matriz A original en el producto de dos matrices:\n",
    "    - Una triangular inferior: L\n",
    "    - Una triangular superior: U\n",
    "\n",
    "Con ellas creamos el siguiente sistema:\n",
    "$Ax = LUx = B$ con $A = LU$\n",
    "De esta forma obtenemos dos sistemas de ecuaciones:\n",
    "$$ Ly = B $$\n",
    "$$ Ux = y $$"
   ]
  },
  {
   "cell_type": "markdown",
   "metadata": {},
   "source": [
    "Estas dos matrices corresponden a matrices anteriormente halladas, mediante un pequeño análisis podemos darnos cuenta que: \n",
    "$$U = A^{*}$$\n",
    "$$L = M + I$$"
   ]
  },
  {
   "cell_type": "markdown",
   "metadata": {},
   "source": [
    "Por lo tanto podemos utilizar los mismos métodos que utilizamos anteriormente para poder resolver la matriz:"
   ]
  },
  {
   "cell_type": "code",
   "execution_count": 163,
   "metadata": {},
   "outputs": [
    {
     "name": "stdout",
     "output_type": "stream",
     "text": [
      "[[1. 2.]\n",
      " [8. 3.]]\n"
     ]
    }
   ],
   "source": [
    "A = np.matrix([[1, 2], \n",
    "               [8, 3]\n",
    "              ])\n",
    "\n",
    "B = np.matrix([ [2, 3] ])\n",
    "\n",
    "M = np.matrix([ [0, 0],\n",
    "               [(A.item(1,0) / A.item(0,0)), 0]\n",
    "              ])\n",
    "\n",
    "# Realizamos Gauss-Jordan en A, pero no en B.\n",
    "Gauss(A, B, M, ext=False)\n",
    "U = A\n",
    "L = M + np.identity(M.shape[0])\n",
    "print(L*U)"
   ]
  },
  {
   "cell_type": "markdown",
   "metadata": {},
   "source": [
    "En el primer caso para obtener la solución intermedia $y$, aplicamos la sustitución directa tal que:\n",
    "$$ y_i = b_i - \\sum_{j=1}^{i-1} l_{ij}y_j$$"
   ]
  },
  {
   "cell_type": "code",
   "execution_count": 164,
   "metadata": {},
   "outputs": [],
   "source": [
    "def sust_dir(L, B):\n",
    "    x = [0, 0] \n",
    "    ax = 0\n",
    "    \n",
    "    for i in range(L.shape[0]):\n",
    "        for j in range(i):\n",
    "            ax += L[i, j]*x[j]\n",
    "        \n",
    "        x[i] = B[0, i] - ax\n",
    "    \n",
    "    return x\n"
   ]
  },
  {
   "cell_type": "code",
   "execution_count": 165,
   "metadata": {},
   "outputs": [
    {
     "name": "stdout",
     "output_type": "stream",
     "text": [
      "[2, -13.0]\n"
     ]
    }
   ],
   "source": [
    "y = sust_dir(L, B)\n",
    "print(y)"
   ]
  },
  {
   "cell_type": "markdown",
   "metadata": {},
   "source": [
    "Una vez obtenido $y$, se aplica la sustitución inversa para obtener el vector $x$ solución del sistema."
   ]
  },
  {
   "cell_type": "code",
   "execution_count": 166,
   "metadata": {},
   "outputs": [
    {
     "name": "stdout",
     "output_type": "stream",
     "text": [
      "[0.0, 1.0]\n"
     ]
    }
   ],
   "source": [
    "y = np.matrix([y])\n",
    "x = sust_inv(U, y)\n",
    "print(x)"
   ]
  },
  {
   "cell_type": "markdown",
   "metadata": {},
   "source": [
    "Nuevamente nos fijamos si este valor resuelve el problema con las matrices originales."
   ]
  },
  {
   "cell_type": "code",
   "execution_count": 168,
   "metadata": {},
   "outputs": [
    {
     "name": "stdout",
     "output_type": "stream",
     "text": [
      "[[2. 3.]]\n",
      "[[2 3]]\n"
     ]
    }
   ],
   "source": [
    "A = np.matrix([[1, 2], \n",
    "               [8, 3]\n",
    "              ])\n",
    "\n",
    "B = np.matrix([ [2, 3] ])\n",
    "\n",
    "print(x*np.transpose(A))\n",
    "print(B)"
   ]
  },
  {
   "cell_type": "markdown",
   "metadata": {},
   "source": [
    "Podemos ver que el costo computacional de este método, por utilizar la eliminación de Gauss, tendrá un costo similar al mismo. Sin embargo, en donde este método se destaca es en que no hay que repetir la triangulación de la matriz $A$ para distintos $B$."
   ]
  },
  {
   "cell_type": "markdown",
   "metadata": {},
   "source": [
    "## 3. Método de Cholesky"
   ]
  },
  {
   "cell_type": "markdown",
   "metadata": {},
   "source": [
    "Si la matriz $A$ es simétrica definida positiva, entonces es posible obtener una matriz $S$ que cumpla:\n",
    "$$ SS^{T} = A$$"
   ]
  },
  {
   "cell_type": "markdown",
   "metadata": {},
   "source": [
    "Esta matriz se puede obtener a partir de la factorización $LU$.\n",
    "La matriz simétrica A puede ser factorizada como $LDL^{T}$. Si además es definida positiva, entonces los coeficientes de D son positivos, por lo tanto podemos obtener $\\sqrt(D)$, con lo cual tenemos:\n",
    "$$ A = L\\sqrt{D} \\sqrt{D}L^{T} = SS^{T} $$"
   ]
  },
  {
   "cell_type": "markdown",
   "metadata": {},
   "source": [
    "Las expresiones para obtener esta matriz $S$ son:"
   ]
  },
  {
   "cell_type": "markdown",
   "metadata": {},
   "source": [
    "$$ s_{ii} = {[ a_{ii} - \\sum_{k=1}^{i-1} s²_{ik} ]}^{1/2} $$\n",
    "$$ s_{ji} = \\frac{1}{s_{ii}} [ a_{ji} - \\sum_{k=1}^{i-1} s_{jk}s_{ik} ] $$"
   ]
  },
  {
   "cell_type": "code",
   "execution_count": null,
   "metadata": {},
   "outputs": [],
   "source": []
  }
 ],
 "metadata": {
  "kernelspec": {
   "display_name": "Python 3",
   "language": "python",
   "name": "python3"
  },
  "language_info": {
   "codemirror_mode": {
    "name": "ipython",
    "version": 3
   },
   "file_extension": ".py",
   "mimetype": "text/x-python",
   "name": "python",
   "nbconvert_exporter": "python",
   "pygments_lexer": "ipython3",
   "version": "3.7.2"
  }
 },
 "nbformat": 4,
 "nbformat_minor": 2
}
