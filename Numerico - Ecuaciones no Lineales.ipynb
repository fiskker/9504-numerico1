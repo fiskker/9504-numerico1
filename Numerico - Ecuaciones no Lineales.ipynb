{
 "cells": [
  {
   "cell_type": "markdown",
   "metadata": {},
   "source": [
    "# Ejercicios: Ecuaciones no lineales - A. Numerico Schwarz 1c 2019\n",
    "\n"
   ]
  },
  {
   "cell_type": "markdown",
   "metadata": {},
   "source": [
    "## 1. Metodo de la Bisección"
   ]
  },
  {
   "cell_type": "markdown",
   "metadata": {},
   "source": [
    "#### Sea $f(x) = 5*sin(x/3) - x^{3}$, queremos resolver $f(x) = 0$ utilizando el método de la bisección.\n"
   ]
  },
  {
   "cell_type": "code",
   "execution_count": 1,
   "metadata": {},
   "outputs": [
    {
     "data": {
      "text/plain": [
       "<Figure size 640x480 with 1 Axes>"
      ]
     },
     "metadata": {},
     "output_type": "display_data"
    }
   ],
   "source": [
    "import numpy as np\n",
    "import matplotlib.pyplot as plt\n",
    "\n",
    "def function(x):\n",
    "    return 5*np.sin(x/3) - x**3\n",
    "\n",
    "\n",
    "a = -100\n",
    "b = 100\n",
    "vec = np.vectorize(function)\n",
    "\n",
    "plt.plot(range(a,b), vec(range(a,b)))\n",
    "plt.show()"
   ]
  },
  {
   "cell_type": "markdown",
   "metadata": {},
   "source": [
    "#### Deberiamos verificar que $f(a) * f(b) < 0$, podemos ver que se verifica:"
   ]
  },
  {
   "cell_type": "code",
   "execution_count": 2,
   "metadata": {},
   "outputs": [
    {
     "name": "stdout",
     "output_type": "stream",
     "text": [
      "-1037.8457673806072\n"
     ]
    }
   ],
   "source": [
    "a = -2\n",
    "b = 6\n",
    "print(function(a)*function(b))"
   ]
  },
  {
   "cell_type": "markdown",
   "metadata": {},
   "source": [
    "#### Viendo que $x \\in (a,b)$, podemos calcular nuestra primera aproximación tomando el valor medio del intervalo:"
   ]
  },
  {
   "cell_type": "code",
   "execution_count": 3,
   "metadata": {},
   "outputs": [
    {
     "name": "stdout",
     "output_type": "stream",
     "text": [
      "-4.908150984651315\n"
     ]
    }
   ],
   "source": [
    "x_1 = (b + a)/2\n",
    "print(function(x_1))"
   ]
  },
  {
   "cell_type": "markdown",
   "metadata": {},
   "source": [
    "#### Como no verifica que $f(x_1) = 0$ entonces debemos seguir buscando el resultado."
   ]
  },
  {
   "cell_type": "markdown",
   "metadata": {},
   "source": [
    "#### Verificamos si $f(a)*f(x_1) < 0$, si es cierto, entonces nuestro nuevo intervalo sera $(a, x_1)$ en caso contrario sera $(x_1, b)$"
   ]
  },
  {
   "cell_type": "code",
   "execution_count": 4,
   "metadata": {},
   "outputs": [
    {
     "name": "stdout",
     "output_type": "stream",
     "text": [
      "-24.089946088133676\n"
     ]
    }
   ],
   "source": [
    "print(function(a)*function(x_1))"
   ]
  },
  {
   "cell_type": "markdown",
   "metadata": {},
   "source": [
    "#### Realizamos el mismo procedimiento que en el caso anterior (si fuera el otro intervalo sería lo mismo pero con $x_1$ y $b$"
   ]
  },
  {
   "cell_type": "markdown",
   "metadata": {},
   "source": [
    "$$x_2 = \\frac{x_1 + a}{2}$$\n",
    "$$x_2 = \\frac{\\frac{b+a}{2} + a}{2} = \\frac{b + a}{4} + \\frac{a}{2}$$"
   ]
  },
  {
   "cell_type": "markdown",
   "metadata": {},
   "source": [
    "#### Que también puede verse como: $$x_2 = x_1 - \\frac{b-a}{4}$$"
   ]
  },
  {
   "cell_type": "markdown",
   "metadata": {},
   "source": [
    "#### Si seguimos realizando los mismos procedimientos, podemos llegar a la conclusion de que: $$x_n = x_{n-1} - \\frac{b-a}{2^{n}}$$"
   ]
  },
  {
   "cell_type": "code",
   "execution_count": 48,
   "metadata": {},
   "outputs": [
    {
     "name": "stdout",
     "output_type": "stream",
     "text": [
      "Cantidad de iteraciones: 1\n",
      "La solución es: 0.0 pues la funcion en ese punto vale: 0.0\n"
     ]
    }
   ],
   "source": [
    "a = -2\n",
    "b = 6\n",
    "x = []\n",
    "x.append((b+a)/2)\n",
    "rel_err = 1\n",
    "epsilon = 10**-15\n",
    "i = 0\n",
    "MAX_ITER = 1000\n",
    "\n",
    "while(rel_err > epsilon and i < MAX_ITER):\n",
    "    \n",
    "    # Si la funcion en ese punto es nula ya encontramos la solucion.\n",
    "    if(function(x[i]) == 0):\n",
    "        break\n",
    "        \n",
    "    # Calcular para ver intervalo donde esta el cero.\n",
    "    sgn = function(a)*function(x[i])\n",
    "    \n",
    "    if(sgn < 0):\n",
    "        # Nuevo fin de intervalo\n",
    "        b = x[i]\n",
    "    else:\n",
    "        # Nuevo inicio de intervalo\n",
    "        a = x[i]\n",
    "    \n",
    "    # Agregar a valores hallados.\n",
    "    x.append( (b+a)/2 )\n",
    "    \n",
    "    # Incrementar x actual\n",
    "    i = i + 1    \n",
    "    \n",
    "    # Calcular error relativo.\n",
    "    if(x[i] != 0):\n",
    "        rel_err = abs(x[i] - x[i-1]) / abs(x[i])\n",
    "        #print(\"Relative error: \" + str(rel_err))\n",
    "\n",
    "\n",
    "print(\"Cantidad de iteraciones:\",i)\n",
    "print(\"La solución es:\",x[i],\"pues la funcion en ese punto vale:\",function(x[i]))"
   ]
  },
  {
   "cell_type": "code",
   "execution_count": 6,
   "metadata": {},
   "outputs": [
    {
     "data": {
      "image/png": "[encoded data removed]",
      "text/plain": [
       "<Figure size 432x288 with 1 Axes>"
      ]
     },
     "metadata": {
      "needs_background": "light"
     },
     "output_type": "display_data"
    }
   ],
   "source": [
    "a = x[i] - 1.5\n",
    "b = x[i] + 1.5\n",
    "\n",
    "d = np.arange(a, b, 0.001)\n",
    "vec = np.vectorize(function)\n",
    "\n",
    "plt.plot(d, vec(d))\n",
    "plt.show()"
   ]
  },
  {
   "cell_type": "markdown",
   "metadata": {},
   "source": [
    "#### Esta función en particular tiene raíces también en -1.27 y 1.27, que se pueden encontrar cambiando el intervalo $(a, b)$"
   ]
  },
  {
   "cell_type": "markdown",
   "metadata": {},
   "source": [
    "## 2. Método de la falsa posición o \"regula falsi\""
   ]
  },
  {
   "cell_type": "markdown",
   "metadata": {},
   "source": [
    "#### Sea $f(x) = (x + \\exp({\\frac{x}{2}}))*cos(x) + 5$, queremos resolver $f(x) = 0$ utilizando el método de la falsa posicion"
   ]
  },
  {
   "cell_type": "code",
   "execution_count": 7,
   "metadata": {},
   "outputs": [
    {
     "data": {
      "image/png": "[encoded data removed]",
      "text/plain": [
       "<Figure size 432x288 with 1 Axes>"
      ]
     },
     "metadata": {
      "needs_background": "light"
     },
     "output_type": "display_data"
    }
   ],
   "source": [
    "def f(x):\n",
    "    return (x + np.exp(x/2))*np.cos(x) + 5\n",
    "\n",
    "\n",
    "a = -40\n",
    "b = 100\n",
    "\n",
    "d = np.arange(a, b, 0.001)\n",
    "vec = np.vectorize(f)\n",
    "\n",
    "plt.plot(d, vec(d))\n",
    "plt.show()"
   ]
  },
  {
   "cell_type": "markdown",
   "metadata": {},
   "source": [
    "#### En el método de \"regula falsi\", procedemos de igual manera que en el método de la bisección. Pero en vez de recurrir a la próxima solución dividiendo el intervalo por la mitad, la misma será la intersección entre la abscisa y la recta que une los dos puntos que limitan el intervalo en esa iteración."
   ]
  },
  {
   "cell_type": "markdown",
   "metadata": {},
   "source": [
    "$$x_1 = a - \\frac{f(a)(b-a)}{f(b)-f(a)}$$\n",
    "ó\n",
    "$$x_1 = b - \\frac{f(b)(b-a)}{f(b)-f(a)}$$"
   ]
  },
  {
   "cell_type": "markdown",
   "metadata": {},
   "source": [
    "#### Para las iteraciones siguientes, los intervalos variaran de acuerdo a la regla $f(x_k)*f(x_{k-1}) < 0$"
   ]
  },
  {
   "cell_type": "markdown",
   "metadata": {},
   "source": [
    "#### Se termina obteniendo entonces dependiendo del resultado de dicha ecuación que: \n",
    "$$x_n = a_n - \\frac{f(a_n)(x_{n-1} - a_n)}{f(x_{n-1}) - f(a_n)}$$\n",
    "### ó\n",
    "$$x_n = x_{n-1} - \\frac{f(x_{n-1})(b_n - x_{n-1})}{f(b_n) - f(x_{n-1})}$$"
   ]
  },
  {
   "cell_type": "code",
   "execution_count": 47,
   "metadata": {},
   "outputs": [
    {
     "name": "stdout",
     "output_type": "stream",
     "text": [
      "Cantidad de iteraciones: 13\n",
      "La solución es: -17.56737070676262 pues la funcion en ese punto vale: 1.4210854715202004e-14\n"
     ]
    }
   ],
   "source": [
    "a = -5\n",
    "b = 5\n",
    "x = []\n",
    "x.append(a -  ( ( f(a)*(b-a) ) / ( f(b)- f(a) ) )) \n",
    "rel_err = 1\n",
    "epsilon = 10**-15\n",
    "i = 0\n",
    "MAX_ITER = 1000\n",
    "\n",
    "while(rel_err > epsilon and i < MAX_ITER):\n",
    "    \n",
    "    # Si la función es nula en ese punto, ya encontramos la solución.\n",
    "    if(f(x[i]) == 0):\n",
    "        break\n",
    "    \n",
    "    # Vemos en que intervalo esta la raiz.\n",
    "    sgn = f(a)*f(x[i])\n",
    "    \n",
    "    if(sgn < 0):\n",
    "        # Nuevo fin de intervalo.\n",
    "        b = x[i]\n",
    "    else:\n",
    "        # Nuevo inicio de intervalo.\n",
    "        a = x[i]\n",
    "    \n",
    "    # Agregar punto de recta que une los puntos del intervalo actual.\n",
    "    res = a -  ( ( f(a)*(b-a) ) / ( f(b)- f(a) ) )\n",
    "    x.append(res)\n",
    "    \n",
    "    # Incrementar posicion.\n",
    "    i = i + 1\n",
    "    \n",
    "    # Calcular error relativo.\n",
    "    if(x[i] != 0):\n",
    "        rel_err = abs(x[i] - x[i-1]) / abs(x[i])\n",
    "\n",
    "print(\"Cantidad de iteraciones:\",i)\n",
    "print(\"La solución es:\",x[i],\"pues la funcion en ese punto vale:\",f(x[i]))\n"
   ]
  },
  {
   "cell_type": "code",
   "execution_count": 9,
   "metadata": {},
   "outputs": [
    {
     "data": {
      "image/png": "[encoded data removed]",
      "text/plain": [
       "<Figure size 432x288 with 1 Axes>"
      ]
     },
     "metadata": {
      "needs_background": "light"
     },
     "output_type": "display_data"
    }
   ],
   "source": [
    "a = x[i] - 1\n",
    "b = x[i] + 1\n",
    "\n",
    "d = np.arange(a, b, 0.001)\n",
    "vec = np.vectorize(f)\n",
    "\n",
    "plt.plot(d, vec(d))\n",
    "plt.show()"
   ]
  },
  {
   "cell_type": "markdown",
   "metadata": {},
   "source": [
    "## 3. Método de las aproximaciones sucesivas o punto fijo"
   ]
  },
  {
   "cell_type": "markdown",
   "metadata": {},
   "source": [
    "#### Método de convergencia más rapida que los anteriores. Utilizado como metodo de refinamiento."
   ]
  },
  {
   "cell_type": "markdown",
   "metadata": {},
   "source": [
    "#### Planteamos que $f(x) = y(x) - g(x) = 0$. Es decir que $f(x) = 0 == g(x) = y(x)$"
   ]
  },
  {
   "cell_type": "markdown",
   "metadata": {},
   "source": [
    "#### Dicho de otro modo, buscamos una función $g(x)$ sabiendo que para el valor $x / f(x) = 0$ se cumple $g(x) = y(x)$"
   ]
  },
  {
   "cell_type": "markdown",
   "metadata": {},
   "source": [
    "#### Se puede demostrar que existen condiciones suficientes, pero no necesarias, para crear una función $g(x)$ tal que al aplicar un método iterativo, esté convergera siempre."
   ]
  },
  {
   "cell_type": "markdown",
   "metadata": {},
   "source": [
    "#### Las condiciones son: "
   ]
  },
  {
   "cell_type": "markdown",
   "metadata": {},
   "source": [
    "#### 1. $g(x) \\in C(a,b) $ y $g(x) \\in [a;b]  \\forall x \\in [a,b] \\implies g(x)$ tiene un punto fijo en $[a,b]$ "
   ]
  },
  {
   "cell_type": "markdown",
   "metadata": {},
   "source": [
    "#### 2. Si  $\\exists \\frac{dg}{dx} \\in [a,b], y \\exists m < 1 $ tal que: \n",
    "#### $|\\frac{dg}{dx}| \\leq m, \\forall x \\in [a,b] \\implies $ el punto fijo en $[a,b]$ es único. \n"
   ]
  },
  {
   "cell_type": "markdown",
   "metadata": {},
   "source": [
    "#### Resolver la ecuación: $f(x) = 5exp(\\frac{-x}{5})cos(x)$"
   ]
  },
  {
   "cell_type": "code",
   "execution_count": 10,
   "metadata": {},
   "outputs": [
    {
     "data": {
      "image/png": "[encoded data removed]",
      "text/plain": [
       "<Figure size 432x288 with 1 Axes>"
      ]
     },
     "metadata": {
      "needs_background": "light"
     },
     "output_type": "display_data"
    }
   ],
   "source": [
    "def f_s(x):\n",
    "    return 5*np.exp(-x/5)*np.cos(x)\n",
    "\n",
    "a = -18\n",
    "b = -16\n",
    "\n",
    "d = np.arange(a, b, 0.001)\n",
    "vec = np.vectorize(f_s)\n",
    "\n",
    "plt.plot(d, vec(d))\n",
    "plt.show()"
   ]
  },
  {
   "cell_type": "code",
   "execution_count": 11,
   "metadata": {},
   "outputs": [
    {
     "data": {
      "image/png": "[encoded data removed]",
      "text/plain": [
       "<Figure size 432x288 with 1 Axes>"
      ]
     },
     "metadata": {
      "needs_background": "light"
     },
     "output_type": "display_data"
    }
   ],
   "source": [
    "a = -18\n",
    "b = -16\n",
    "\n",
    "t = np.linspace(a, b, 400)\n",
    "a = f_s(t)\n",
    "b = t\n",
    "\n",
    "fig = plt.figure()\n",
    "ax = fig.add_subplot(1, 1, 1)\n",
    "\n",
    "# Move left y-axis and bottim x-axis to centre, passing through (0,0)\n",
    "ax.spines['left'].set_position('zero')\n",
    "ax.spines['bottom'].set_position('zero')\n",
    "\n",
    "# Eliminate upper and right axes\n",
    "ax.spines['right'].set_color('none')\n",
    "ax.spines['top'].set_color('none')\n",
    "\n",
    "# Show ticks in the left and lower axes only\n",
    "ax.xaxis.set_ticks_position('bottom')\n",
    "ax.yaxis.set_ticks_position('left')\n",
    "\n",
    "plt.plot(t, a, 'r')\n",
    "plt.plot(t, b, 'b')\n",
    "plt.show()"
   ]
  },
  {
   "cell_type": "markdown",
   "metadata": {},
   "source": [
    "#### Definimos una función para realizar nuestra función de punto fijo."
   ]
  },
  {
   "cell_type": "code",
   "execution_count": 20,
   "metadata": {
    "scrolled": false
   },
   "outputs": [],
   "source": [
    "import sympy as sym\n",
    "\n",
    "def esta_en_intervalo(a, b, g_pfijo):\n",
    "    if(g_pfijo == None):\n",
    "        return False\n",
    "    \n",
    "    # Vectorizamos la función en intervalos muy pequeños.\n",
    "    d = np.arange(a, b, 0.01)\n",
    "    vec = np.vectorize(g_pfijo)\n",
    "    \n",
    "    sup = np.amax(vec(d))\n",
    "    inf = np.amin(vec(d))\n",
    "    \n",
    "    \n",
    "    # if(sup > b or inf < a):\n",
    "    #    return False\n",
    "    \n",
    "    return True\n",
    "    \n",
    "def intervalo_deriv(a, b, df_pfijo):\n",
    "    \n",
    "    # Vectorizamos la función en intervalos muy pequeños.\n",
    "    d = np.arange(a, b, 0.01)\n",
    "    vec = np.vectorize(df_pfijo)\n",
    "    \n",
    "    # Buscamos los maximos y minimos, asi encontramos las cotas de la derivada.\n",
    "    sup = np.amax(vec(d))\n",
    "    inf = np.amin(vec(d))\n",
    "\n",
    "    return [inf, sup]\n",
    "    \n",
    "def strip_voids(M):\n",
    "    \n",
    "    M = filter(None, M)\n",
    "    \n",
    "    return M\n",
    "\n",
    "def hallar_m(a, b, f_pfijo, m1, m2):\n",
    "    OFFSET = 50\n",
    "    # Vectorizamos la función en intervalos muy pequeños.\n",
    "    X = np.arange(a, b, 0.01)\n",
    "    F = np.vectorize(f_pfijo)\n",
    "    F_arr = F(X)\n",
    "    #print(X)\n",
    "    #print(F_arr)\n",
    "    \n",
    "    m_arr = []\n",
    "    M_arr = []\n",
    "    inf = 0\n",
    "    sup = 0\n",
    "    for i in range(len(X)):\n",
    "        dif = [X[i] - b, X[i] - a]\n",
    "        if(dif[0] == 0 or dif[1] == 0):\n",
    "            continue\n",
    "            \n",
    "        if(F_arr[i] <= 0):\n",
    "            inf = F_arr[i] / dif[0]\n",
    "            sup = F_arr[i] / dif[1]\n",
    "        else:\n",
    "            inf = F_arr[i] / dif[1]\n",
    "            sup = F_arr[i] / dif[0]\n",
    "\n",
    "        if(inf < sup):\n",
    "            for j in np.arange(inf, sup, 0.1):\n",
    "                m_arr.append(j)\n",
    "        else:\n",
    "            for j in np.arange(inf, inf+OFFSET, 0.1):\n",
    "                m_arr.append(j)\n",
    "            for j in np.arange(sup-OFFSET, sup, 0.1):\n",
    "                m_arr.append(j)\n",
    "\n",
    "        M_arr.append(list(set(m_arr)))\n",
    "\n",
    "        \n",
    "    from functools import reduce\n",
    "    M_arr = strip_voids(M_arr)\n",
    "    intersection = reduce(np.intersect1d, M_arr)\n",
    "    \n",
    "    m = m_derivada(intersection, m1, m2)\n",
    "    \n",
    "    return m\n",
    "  \n",
    "def m_derivada(M, m1, m2):\n",
    "    MIN = -1\n",
    "    MAX = 1\n",
    "    \n",
    "    inf = 0\n",
    "    sup = 0\n",
    "    \n",
    "    min_dif = 1\n",
    "    min_index = 0\n",
    "    \n",
    "    found = False\n",
    "    for i in range(len(M)):\n",
    "        if(M[i] == 0):\n",
    "            continue\n",
    "       \n",
    "        if(M[i] < 0):\n",
    "            inf = 1 - m1/M[i]\n",
    "            sup = 1 - m2/M[i]\n",
    "        else:\n",
    "            inf = 1 - m2/M[i]\n",
    "            sup = 1 - m1/M[i]\n",
    "        \n",
    "        if( (inf > MIN  and inf < 0) and (sup > 0 and sup < MAX)):\n",
    "            found = True\n",
    "            dif = abs(inf) if (abs(inf) > abs(sup)) else abs(sup)\n",
    "            if(dif < min_dif):\n",
    "                min_dif = dif\n",
    "                min_index = i\n",
    "    \n",
    "    if(found):    \n",
    "        return M[min_index]\n",
    "    else:\n",
    "        return None\n",
    "                  \n",
    "    \n",
    "def buscar_g(a, b, f_pfijo):\n",
    "    # Debe cumplir:\n",
    "    #   1. g(x) pert [a,b] para todo x pert [a,b]\n",
    "    #   2. m < 1, existe g'(x) tal que |g'(x)| <= m \n",
    "    #   para todo x pert [a,b]\n",
    "    x = sym.Symbol('x')\n",
    "    m = None\n",
    "    g_pfijo = None\n",
    "    \n",
    "    # Guardo la función simbólica f\n",
    "    sym_f = f_pfijo\n",
    "    \n",
    "    # Busco las derivadas de f\n",
    "    df_pfijo = sym.diff(f_pfijo)\n",
    "    \n",
    "    # Las hago numericas:\n",
    "    f_pfijo = sym.lambdify(x, f_pfijo)\n",
    "    df_pfijo = sym.lambdify(x, df_pfijo)\n",
    "    \n",
    "    # Chequeo si hay raíces en el intervalo elegido    \n",
    "    if(f_pfijo(a) * f_pfijo(b) > 0):\n",
    "        print(\"La función no tiene raíces en el intervalo\")\n",
    "        return\n",
    "\n",
    "    # Encontrar limites m1 y m2 para la derivada de f\n",
    "    [m1, m2] = intervalo_deriv(a, b, df_pfijo)\n",
    "\n",
    "    # Hallar constante de m tal que la derivada de g (en valor abs) sea menor a 1 y g este en el intervalo deseado\n",
    "    m = hallar_m(a, b, f_pfijo, m1, m2)\n",
    "\n",
    "    # Division por cero\n",
    "    if(m == 0):\n",
    "        print(\"Error hallando m\")\n",
    "        return\n",
    "\n",
    "    if(m == None):\n",
    "        print(\"No se encontro g(x) que cumpla las condiciones\")\n",
    "        return None\n",
    "    \n",
    "    return x - (1/m)*sym_f\n",
    "\n",
    "        "
   ]
  },
  {
   "cell_type": "markdown",
   "metadata": {},
   "source": [
    "#### Luego de realizada esta función, podemos proceder a utilizar SymPy para definir las funciones, y luego realizar el método"
   ]
  },
  {
   "cell_type": "code",
   "execution_count": 21,
   "metadata": {},
   "outputs": [
    {
     "name": "stdout",
     "output_type": "stream",
     "text": [
      "Encontramos g es: x + 0.0541675817531861*exp(-x/5)*cos(x)\n"
     ]
    }
   ],
   "source": [
    "a = -18\n",
    "b = -16\n",
    "\n",
    "x = sym.Symbol('x')\n",
    "\n",
    "f_pfijo = 5*sym.exp(-x/5)*sym.cos(x)\n",
    "df_pfijo = sym.diff(f_pfijo)\n",
    "df2_pfijo = sym.diff(df_pfijo)\n",
    "\n",
    "g_pfijo = buscar_g(a, b, f_pfijo)\n",
    "if(g_pfijo != None):\n",
    "    print(\"Encontramos g es: \" + str(g_pfijo))\n",
    "    dg_pfijo = sym.diff(g_pfijo)\n",
    "    dg_pfijo = sym.lambdify(x, dg_pfijo)\n",
    "\n",
    "f_pfijo = sym.lambdify(x, f_pfijo)\n",
    "g_pfijo = sym.lambdify(x, g_pfijo)\n"
   ]
  },
  {
   "cell_type": "code",
   "execution_count": 22,
   "metadata": {},
   "outputs": [
    {
     "data": {
      "image/png": "[encoded data removed]",
      "text/plain": [
       "<Figure size 432x288 with 1 Axes>"
      ]
     },
     "metadata": {
      "needs_background": "light"
     },
     "output_type": "display_data"
    }
   ],
   "source": [
    "a = -18\n",
    "b = -16\n",
    "\n",
    "t = np.linspace(a, b, 1000)\n",
    "a = f_pfijo(t)\n",
    "b = t\n",
    "c = g_pfijo(t)\n",
    "\n",
    "fig = plt.figure()\n",
    "\n",
    "plt.plot(t, a, 'r')\n",
    "plt.plot(t, b, 'b')\n",
    "if(c.all() != None):\n",
    "    plt.plot(t, c, 'y')\n",
    "plt.show()"
   ]
  },
  {
   "cell_type": "markdown",
   "metadata": {},
   "source": [
    "#### Una vez que hallamos g, debemos implementar el método en sí.\n",
    "#### El mismo se basa en tomar un valor inicial $x_0$ y sucesivamente utilizar la función hallada, para encontrar la raíz:\n",
    "$$ x_n = g(x_{n-1})$$"
   ]
  },
  {
   "cell_type": "code",
   "execution_count": 46,
   "metadata": {},
   "outputs": [
    {
     "name": "stdout",
     "output_type": "stream",
     "text": [
      "Cantidad de iteraciones: 97\n",
      "La solución es: -17.278759594743857 pues la funcion en ese punto vale: -9.508790898633903e-13\n"
     ]
    }
   ],
   "source": [
    "a = -18\n",
    "b = -16\n",
    "\n",
    "MAX_ITER = 1000\n",
    "i = 0\n",
    "x = [0, 0]\n",
    "TOL = 10**-15\n",
    "err_rel = 1\n",
    "x[0] = np.random.randint(-18, -16)\n",
    "\n",
    "while(err_rel > TOL and i < MAX_ITER):\n",
    "    \n",
    "    # Llamar a funcion\n",
    "    x[1] = g_pfijo(x[0])\n",
    "    \n",
    "    # Si hallamos la raiz terminamos\n",
    "    if(f(x[1]) == 0):\n",
    "        break\n",
    "    \n",
    "    # Calculamos el nuevo error relativo\n",
    "    err_rel = abs(x[1] - x[0]) / abs(x[1])\n",
    "    #print(\"Error relativo:\",err_rel)\n",
    "    \n",
    "    # Actualizar valor\n",
    "    x[0] = x[1]\n",
    "    i = i + 1\n",
    "\n",
    "print(\"Cantidad de iteraciones:\",i)\n",
    "print(\"La solución es:\",x[1],\"pues la funcion en ese punto vale:\",f_s(x[1]))\n",
    "    \n"
   ]
  },
  {
   "cell_type": "markdown",
   "metadata": {},
   "source": [
    "### 4. Método de Newton-Raphson"
   ]
  },
  {
   "cell_type": "markdown",
   "metadata": {},
   "source": [
    "#### Este método es uno de los más poderosos que se conocen para resolver ecuaciones no lineales."
   ]
  },
  {
   "cell_type": "markdown",
   "metadata": {},
   "source": [
    "#### Una primera aproximación al método es partir del método de la falsa posición, y en vez de trazar una cuerda entre los dos extremos del intervalo, trazamos una tangente."
   ]
  },
  {
   "cell_type": "markdown",
   "metadata": {},
   "source": [
    "#### Supongamos que para el mismo intervalo $[a,b]$ trazamos la tangente que pasa por $f(b)$. Tendremos que:"
   ]
  },
  {
   "cell_type": "markdown",
   "metadata": {},
   "source": [
    "#### $$ t(x) = f'(b)(x-b) + f(b)$$"
   ]
  },
  {
   "cell_type": "markdown",
   "metadata": {},
   "source": [
    "#### Cuando tengamos $f(x) = 0$, también se cumplira que $t(x) = 0$. Entonces busacamos que:  \n",
    "$$ 0 = f'(b)(x_1-b) + f(b)$$"
   ]
  },
  {
   "cell_type": "markdown",
   "metadata": {},
   "source": [
    "#### Despejando obtenemos que: $x_1 = b - \\frac{f(b)}{f'(b)}$"
   ]
  },
  {
   "cell_type": "markdown",
   "metadata": {},
   "source": [
    "#### La sucesión queda entonces definida como $$x_n = x_{n-1} - \\frac{f(x_{n-1})}{f'(x_{n-1})} $$"
   ]
  },
  {
   "cell_type": "markdown",
   "metadata": {},
   "source": [
    "#### Resolvamos la ecuación $f(x) = 8sin(x + 5) $"
   ]
  },
  {
   "cell_type": "code",
   "execution_count": 34,
   "metadata": {},
   "outputs": [
    {
     "data": {
      "image/png": "[encoded data removed]",
      "text/plain": [
       "<Figure size 432x288 with 1 Axes>"
      ]
     },
     "metadata": {
      "needs_background": "light"
     },
     "output_type": "display_data"
    }
   ],
   "source": [
    "def funcion(x):\n",
    "    return 8*np.sin(x + 5)\n",
    "\n",
    "a = -10\n",
    "b = 10\n",
    "\n",
    "d = np.arange(a, b, 0.001)\n",
    "vec = np.vectorize(funcion)\n",
    "\n",
    "plt.plot(d, vec(d))\n",
    "plt.show()"
   ]
  },
  {
   "cell_type": "markdown",
   "metadata": {},
   "source": [
    "#### Utilizamos la libreria sympy para obtener la función y su derivada:"
   ]
  },
  {
   "cell_type": "code",
   "execution_count": 40,
   "metadata": {},
   "outputs": [],
   "source": [
    "x = sym.Symbol('x')\n",
    "\n",
    "sym_funcion = 8*sym.sin(x+5)\n",
    "sym_dfuncion = sym.diff(sym_funcion)\n",
    "\n",
    "num_funcion = sym.lambdify(x, sym_funcion)\n",
    "num_dfuncion = sym.lambdify(x, sym_dfuncion)"
   ]
  },
  {
   "cell_type": "markdown",
   "metadata": {},
   "source": [
    "#### Procedemos a realizar el metodo de Newton-Raphson:"
   ]
  },
  {
   "cell_type": "code",
   "execution_count": 43,
   "metadata": {},
   "outputs": [
    {
     "name": "stdout",
     "output_type": "stream",
     "text": [
      "Cantidad de iteraciones 5\n",
      "La solucion es: 10.707963267948966 , pues la funcion en ese punto vale: 4.898587196589413e-15\n"
     ]
    }
   ],
   "source": [
    "a = -10\n",
    "b = 10\n",
    "\n",
    "MAX_ITER = 1000\n",
    "i = 0\n",
    "x = [0, 0]\n",
    "TOL = 10**-15\n",
    "err_rel = 1\n",
    "x[0] = b\n",
    "\n",
    "while(err_rel > TOL and i < MAX_ITER):\n",
    "    \n",
    "    # Llamar a func\n",
    "    x[1] = x[0] - num_funcion(x[0]) / num_dfuncion(x[0])\n",
    "    \n",
    "    # Si hallamos la raiz terminamos\n",
    "    if(funcion(x[1]) == 0):\n",
    "        break\n",
    "    \n",
    "    # Calculamos el nuevo error relativo\n",
    "    err_rel = abs(x[1] - x[0]) / abs(x[1])\n",
    "    #print(\"Error relativo:\",err_rel)\n",
    "    \n",
    "    # Actualizar valor\n",
    "    x[0] = x[1]\n",
    "    \n",
    "    i = i + 1\n",
    "    \n",
    "print(\"Cantidad de iteraciones\",i)\n",
    "print(\"La solucion es:\",x[1],\", pues la funcion en ese punto vale:\",num_funcion(x[1]))"
   ]
  },
  {
   "cell_type": "markdown",
   "metadata": {},
   "source": [
    "### 5. Metodo de Steffensen"
   ]
  },
  {
   "cell_type": "markdown",
   "metadata": {},
   "source": [
    "#### El metodo de Steffensen, es un método de convergencia acelerada, que se basa en una técnica denominada: Delta cuadrado de Aitken"
   ]
  },
  {
   "cell_type": "markdown",
   "metadata": {},
   "source": [
    "#### Al aplicar el metodo ${\\Delta}²$ de Aitken a una sucesión linealmente convergente, la nueva sucesión que converge cuadraticamente se construye mediante los siguientes terminos:"
   ]
  },
  {
   "cell_type": "markdown",
   "metadata": {},
   "source": [
    "$x_0: x_1 = g(x_0); x_2 = g(x_1); \\hat{x_0} = {{\\Delta}²}(x_0); x_3 = g(x_2); \\hat{x_1} = {{\\Delta}²}(x_1) $"
   ]
  },
  {
   "cell_type": "markdown",
   "metadata": {},
   "source": [
    "#### Donde: ${\\Delta}²(x_n) = x_{n+2} - 2x_{n+1} + x_n $"
   ]
  },
  {
   "cell_type": "markdown",
   "metadata": {},
   "source": [
    "#### Es decir que precisamos de los dos terminos posteriores a $x_n$ para poder calcular este término:"
   ]
  },
  {
   "cell_type": "markdown",
   "metadata": {},
   "source": [
    "$$ (x_0, x_1, x_2) \\implies (\\hat{x}_0) $$\n",
    "$$ (x_1, x_2, x_3) \\implies (\\hat{x}_1) $$\n",
    "$$       ...         ...       ...      $$\n",
    "$$ (x_{n-2}, x_{n-1}, x_m) \\implies (\\hat{x}_{n-2}) $$"
   ]
  },
  {
   "cell_type": "markdown",
   "metadata": {},
   "source": [
    "#### En el metodo de Steffensen, utiliza este procedimiento para calcular los cuatro primeros terminos, pero luego introduce una leve modificación: en vez de proceder a calcular todos los nuevos valores, utiliza los previamente calculados para seguir calculando:"
   ]
  },
  {
   "cell_type": "markdown",
   "metadata": {},
   "source": [
    "$${x_0}^{(0)}$$\n",
    "$${x_1}^{(0)} = g({x_0}^{(0)})$$\n",
    "$${x_2}^{(0)} = g({x_0}^{(0)})$$\n",
    "$${x_0}^{(1)} = {{\\Delta}²}({x_0}^{(0)})$$\n",
    "#### Hasta aqui procedimos de la misma manera que en Aitken, pero ahora utilizaremos el nuevo $x_0$ recientemente calculado para proceder, y luego el nuevo $x_1$ calculado:\n",
    "$${x_1}^{(1)} = g({x_0}^{(1)})$$\n",
    "$${x_2}^{(1)} = g({x_1}^{(1)})$$\n",
    "$${x_0}^{(2)} = {{\\Delta}²}({x_0}^{(1)})$$"
   ]
  },
  {
   "cell_type": "markdown",
   "metadata": {},
   "source": [
    "#### Generalizando:"
   ]
  },
  {
   "cell_type": "markdown",
   "metadata": {},
   "source": [
    "$$ {x_0}^{(k)} = {\\Delta}² ({x_0}^{(k-1)}) $$\n",
    "$$ {x_1}^{(k)} = g({x_0}^{(k)}) $$\n",
    "$$ {x_2}^{(k)} = g({x_1}^{(k)}) $$\n",
    "$$ \\forall k > 0 $$"
   ]
  },
  {
   "cell_type": "code",
   "execution_count": 81,
   "metadata": {},
   "outputs": [
    {
     "name": "stdout",
     "output_type": "stream",
     "text": [
      "x_0: 0.5 x_1: 0 x_2: 0\n",
      "x_0: 0.5 x_1: 0.20042624309995727 x_2: 0\n",
      "x_0: 0.5 x_1: 0.20042624309995727 x_2: 0.27274906509837465\n",
      "x_0: 0.2586844275657909 x_1: 0.2572308766813142 x_2: 0.27274906509837465\n",
      "x_0: 0.2586844275657909 x_1: 0.2572308766813142 x_2: 0.25760800957543667\n",
      "x_0: 0.2575303177198077 x_1: 0.25753027706138093 x_2: 0.25760800957543667\n",
      "x_0: 0.2575303177198077 x_1: 0.25753027706138093 x_2: 0.25753028761455227\n",
      "Cantidad de iteraciones 6\n",
      "La solucion es: 0.25753028543986073 , pues la funcion de punto fijo en ese punto vale: 0.25753028543986073\n"
     ]
    }
   ],
   "source": [
    "def g(x):\n",
    "    return (2 - np.exp(x) + pow(x, 2)) / 3\n",
    "\n",
    "a = -1\n",
    "b = 3\n",
    "\n",
    "MAX_ITER = 1000\n",
    "it = 0\n",
    "x = [0, 0, 0]\n",
    "TOL = 10**-15\n",
    "err_rel = 1\n",
    "x[0] = 0.5\n",
    "i = 1\n",
    "\n",
    "while(err_rel > TOL and it < MAX_ITER):\n",
    "    \n",
    "    print(\"x_0:\",x[0],\"x_1:\",x[1],\"x_2:\",x[2])\n",
    "    \n",
    "    if(i == 3):\n",
    "        x[0] = x[0] - ( ( (x[1] - x[0])**2) / (x[2] - 2*x[1] + x[0]) )\n",
    "        i = 1\n",
    "    \n",
    "    x[i] = g(x[i-1])\n",
    "    #print(\"g(\",x[i-1],\") es:\",g(x[i-1]))\n",
    "    # Si hallamos la raiz terminamos\n",
    "    if(g(x[i]) == x[i]):\n",
    "        break\n",
    "    \n",
    "    # Calculamos el nuevo error relativo\n",
    "    if(x[i] != 0):\n",
    "        err_rel = abs(x[i] - x[i-1]) / abs(x[i])\n",
    "    #print(\"Error relativo:\",err_rel)\n",
    "    \n",
    "    i = i + 1\n",
    "    it = it + 1\n",
    "\n",
    "if(i == 3):\n",
    "    i = 2\n",
    "    \n",
    "print(\"Cantidad de iteraciones\",it)\n",
    "print(\"La solucion es:\",x[i],\", pues la funcion de punto fijo en ese punto vale:\",g(x[i]))"
   ]
  },
  {
   "cell_type": "code",
   "execution_count": null,
   "metadata": {},
   "outputs": [],
   "source": []
  },
  {
   "cell_type": "code",
   "execution_count": null,
   "metadata": {},
   "outputs": [],
   "source": []
  }
 ],
 "metadata": {
  "kernelspec": {
   "display_name": "Python 3",
   "language": "python",
   "name": "python3"
  },
  "language_info": {
   "codemirror_mode": {
    "name": "ipython",
    "version": 3
   },
   "file_extension": ".py",
   "mimetype": "text/x-python",
   "name": "python",
   "nbconvert_exporter": "python",
   "pygments_lexer": "ipython3",
   "version": "3.7.2"
  }
 },
 "nbformat": 4,
 "nbformat_minor": 2
}
